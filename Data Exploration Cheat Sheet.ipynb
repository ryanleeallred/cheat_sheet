{
 "cells": [
  {
   "cell_type": "code",
   "execution_count": 32,
   "metadata": {},
   "outputs": [
    {
     "data": {
      "text/plain": [
       "'Are testable models being built using real research on the underlying complexities that an organization \\nis attempting to understand and anticipate?'"
      ]
     },
     "execution_count": 32,
     "metadata": {},
     "output_type": "execute_result"
    }
   ],
   "source": [
    "#Inspirational Quote:\n",
    "\n",
    "'''If I collect butterflies and pin them to styrofoam this does not make me a scientist. \n",
    "If I collect data related to those butterflies like their physical attributes, their life spans, \n",
    "their flying patterns and their mating behavior this still does not qualify me as a scientist. \n",
    "If, however, I take those data and produce some conceptual abstraction in the form of laws or \n",
    "rules that capture the behavior of that phenomenon in the form of testable models, \n",
    "then I am doing science. These models can be passed on to future generations of scientists so that they may \n",
    "\"stand on the shoulders of giants\" and build a career around improving our understanding of the phenomenon.'''\n",
    "\n",
    "'''Are testable models being built using real research on the underlying complexities that an organization \n",
    "is attempting to understand and anticipate?'''"
   ]
  },
  {
   "cell_type": "code",
   "execution_count": 33,
   "metadata": {
    "collapsed": true
   },
   "outputs": [],
   "source": [
    "#Import libraries\n",
    "import pandas as pd\n",
    "import numpy as np\n",
    "import sklearn as sk"
   ]
  },
  {
   "cell_type": "markdown",
   "metadata": {},
   "source": [
    "# Read In Data"
   ]
  },
  {
   "cell_type": "code",
   "execution_count": 99,
   "metadata": {
    "collapsed": true
   },
   "outputs": [],
   "source": [
    "# Read in data from CSV\n",
    "df = pd.read_csv('Fake_Data_3.csv')"
   ]
  },
  {
   "cell_type": "markdown",
   "metadata": {},
   "source": [
    "# Num Rows and Columns"
   ]
  },
  {
   "cell_type": "code",
   "execution_count": 100,
   "metadata": {},
   "outputs": [
    {
     "name": "stdout",
     "output_type": "stream",
     "text": [
      "We have 100 rows and 5 columns.\n"
     ]
    }
   ],
   "source": [
    "print('We have {} rows and {} columns.'.format(df.shape[0], df.shape[1]))"
   ]
  },
  {
   "cell_type": "markdown",
   "metadata": {},
   "source": [
    "# Look at first 5 Values"
   ]
  },
  {
   "cell_type": "code",
   "execution_count": 101,
   "metadata": {},
   "outputs": [
    {
     "data": {
      "text/html": [
       "<div>\n",
       "<style>\n",
       "    .dataframe thead tr:only-child th {\n",
       "        text-align: right;\n",
       "    }\n",
       "\n",
       "    .dataframe thead th {\n",
       "        text-align: left;\n",
       "    }\n",
       "\n",
       "    .dataframe tbody tr th {\n",
       "        vertical-align: top;\n",
       "    }\n",
       "</style>\n",
       "<table border=\"1\" class=\"dataframe\">\n",
       "  <thead>\n",
       "    <tr style=\"text-align: right;\">\n",
       "      <th></th>\n",
       "      <th>id</th>\n",
       "      <th>treated</th>\n",
       "      <th>nucleus</th>\n",
       "      <th>cytoplasm</th>\n",
       "      <th>wall</th>\n",
       "    </tr>\n",
       "  </thead>\n",
       "  <tbody>\n",
       "    <tr>\n",
       "      <th>0</th>\n",
       "      <td>1</td>\n",
       "      <td>0</td>\n",
       "      <td>4.66</td>\n",
       "      <td>96.36</td>\n",
       "      <td>9.82</td>\n",
       "    </tr>\n",
       "    <tr>\n",
       "      <th>1</th>\n",
       "      <td>2</td>\n",
       "      <td>0</td>\n",
       "      <td>0.43</td>\n",
       "      <td>89.74</td>\n",
       "      <td>35.16</td>\n",
       "    </tr>\n",
       "    <tr>\n",
       "      <th>2</th>\n",
       "      <td>3</td>\n",
       "      <td>0</td>\n",
       "      <td>2.58</td>\n",
       "      <td>29.76</td>\n",
       "      <td>3.33</td>\n",
       "    </tr>\n",
       "    <tr>\n",
       "      <th>3</th>\n",
       "      <td>4</td>\n",
       "      <td>0</td>\n",
       "      <td>0.56</td>\n",
       "      <td>66.66</td>\n",
       "      <td>21.06</td>\n",
       "    </tr>\n",
       "    <tr>\n",
       "      <th>4</th>\n",
       "      <td>5</td>\n",
       "      <td>0</td>\n",
       "      <td>4.99</td>\n",
       "      <td>93.80</td>\n",
       "      <td>8.26</td>\n",
       "    </tr>\n",
       "  </tbody>\n",
       "</table>\n",
       "</div>"
      ],
      "text/plain": [
       "   id  treated  nucleus  cytoplasm   wall\n",
       "0   1        0     4.66      96.36   9.82\n",
       "1   2        0     0.43      89.74  35.16\n",
       "2   3        0     2.58      29.76   3.33\n",
       "3   4        0     0.56      66.66  21.06\n",
       "4   5        0     4.99      93.80   8.26"
      ]
     },
     "execution_count": 101,
     "metadata": {},
     "output_type": "execute_result"
    }
   ],
   "source": [
    "df.head()"
   ]
  },
  {
   "cell_type": "markdown",
   "metadata": {},
   "source": [
    "# # Obs, # Null, DataType"
   ]
  },
  {
   "cell_type": "code",
   "execution_count": 102,
   "metadata": {},
   "outputs": [
    {
     "name": "stdout",
     "output_type": "stream",
     "text": [
      "<class 'pandas.core.frame.DataFrame'>\n",
      "RangeIndex: 100 entries, 0 to 99\n",
      "Data columns (total 5 columns):\n",
      "id           100 non-null int64\n",
      "treated      100 non-null int64\n",
      "nucleus      100 non-null float64\n",
      "cytoplasm    100 non-null float64\n",
      "wall         100 non-null float64\n",
      "dtypes: float64(3), int64(2)\n",
      "memory usage: 4.0 KB\n"
     ]
    }
   ],
   "source": [
    "df.info() # obs, # null, data type"
   ]
  },
  {
   "cell_type": "markdown",
   "metadata": {},
   "source": [
    "# Count number and type of values in a column"
   ]
  },
  {
   "cell_type": "code",
   "execution_count": 124,
   "metadata": {},
   "outputs": [],
   "source": [
    "#df[\"treated\"].value_count() # only works on categorical / string vars?"
   ]
  },
  {
   "cell_type": "markdown",
   "metadata": {},
   "source": [
    "# Check for Unique IDs and Missing Values"
   ]
  },
  {
   "cell_type": "code",
   "execution_count": 125,
   "metadata": {},
   "outputs": [
    {
     "name": "stdout",
     "output_type": "stream",
     "text": [
      "ID is unique.\n",
      "We do not need to worry about missing values.\n",
      "minimum num values 100\n",
      "number of rows 100\n"
     ]
    }
   ],
   "source": [
    "print('ID is unique.') if df.id.nunique() == df.shape[0] else print('oops')\n",
    "print('We do not need to worry about missing values.') if df.count().min() == df.shape[0] else print('oops')\n",
    "\n",
    "print(\"minimum num values\", df.count().min()) \n",
    "print(\"number of rows\", df.shape[0])"
   ]
  },
  {
   "cell_type": "markdown",
   "metadata": {},
   "source": [
    "# Stratified Summary Statistics"
   ]
  },
  {
   "cell_type": "code",
   "execution_count": 126,
   "metadata": {},
   "outputs": [
    {
     "data": {
      "text/html": [
       "<div>\n",
       "<style>\n",
       "    .dataframe thead tr:only-child th {\n",
       "        text-align: right;\n",
       "    }\n",
       "\n",
       "    .dataframe thead th {\n",
       "        text-align: left;\n",
       "    }\n",
       "\n",
       "    .dataframe tbody tr th {\n",
       "        vertical-align: top;\n",
       "    }\n",
       "</style>\n",
       "<table border=\"1\" class=\"dataframe\">\n",
       "  <thead>\n",
       "    <tr style=\"text-align: right;\">\n",
       "      <th></th>\n",
       "      <th>count</th>\n",
       "      <th>mean</th>\n",
       "      <th>std</th>\n",
       "      <th>min</th>\n",
       "      <th>25%</th>\n",
       "      <th>50%</th>\n",
       "      <th>75%</th>\n",
       "      <th>max</th>\n",
       "    </tr>\n",
       "    <tr>\n",
       "      <th>treated</th>\n",
       "      <th></th>\n",
       "      <th></th>\n",
       "      <th></th>\n",
       "      <th></th>\n",
       "      <th></th>\n",
       "      <th></th>\n",
       "      <th></th>\n",
       "      <th></th>\n",
       "    </tr>\n",
       "  </thead>\n",
       "  <tbody>\n",
       "    <tr>\n",
       "      <th>0</th>\n",
       "      <td>50.0</td>\n",
       "      <td>46.8060</td>\n",
       "      <td>28.551004</td>\n",
       "      <td>0.20</td>\n",
       "      <td>22.0425</td>\n",
       "      <td>41.660</td>\n",
       "      <td>72.15</td>\n",
       "      <td>96.36</td>\n",
       "    </tr>\n",
       "    <tr>\n",
       "      <th>1</th>\n",
       "      <td>50.0</td>\n",
       "      <td>94.5602</td>\n",
       "      <td>61.962369</td>\n",
       "      <td>0.52</td>\n",
       "      <td>38.1750</td>\n",
       "      <td>99.895</td>\n",
       "      <td>154.56</td>\n",
       "      <td>199.66</td>\n",
       "    </tr>\n",
       "  </tbody>\n",
       "</table>\n",
       "</div>"
      ],
      "text/plain": [
       "         count     mean        std   min      25%     50%     75%     max\n",
       "treated                                                                  \n",
       "0         50.0  46.8060  28.551004  0.20  22.0425  41.660   72.15   96.36\n",
       "1         50.0  94.5602  61.962369  0.52  38.1750  99.895  154.56  199.66"
      ]
     },
     "execution_count": 126,
     "metadata": {},
     "output_type": "execute_result"
    }
   ],
   "source": [
    "# http://bconnelly.net/2013/10/summarizing-data-in-python-with-pandas/\n",
    "\n",
    "bytreatment = df.groupby('treated')\n",
    "\n",
    "bytreatment['cytoplasm'].describe()"
   ]
  },
  {
   "cell_type": "code",
   "execution_count": 127,
   "metadata": {},
   "outputs": [
    {
     "data": {
      "text/html": [
       "<div>\n",
       "<style>\n",
       "    .dataframe thead tr:only-child th {\n",
       "        text-align: right;\n",
       "    }\n",
       "\n",
       "    .dataframe thead th {\n",
       "        text-align: left;\n",
       "    }\n",
       "\n",
       "    .dataframe tbody tr th {\n",
       "        vertical-align: top;\n",
       "    }\n",
       "</style>\n",
       "<table border=\"1\" class=\"dataframe\">\n",
       "  <thead>\n",
       "    <tr style=\"text-align: right;\">\n",
       "      <th></th>\n",
       "      <th>count</th>\n",
       "      <th>mean</th>\n",
       "      <th>std</th>\n",
       "      <th>min</th>\n",
       "      <th>25%</th>\n",
       "      <th>50%</th>\n",
       "      <th>75%</th>\n",
       "      <th>max</th>\n",
       "    </tr>\n",
       "    <tr>\n",
       "      <th>treated</th>\n",
       "      <th></th>\n",
       "      <th></th>\n",
       "      <th></th>\n",
       "      <th></th>\n",
       "      <th></th>\n",
       "      <th></th>\n",
       "      <th></th>\n",
       "      <th></th>\n",
       "    </tr>\n",
       "  </thead>\n",
       "  <tbody>\n",
       "    <tr>\n",
       "      <th>0</th>\n",
       "      <td>50.0</td>\n",
       "      <td>2.3078</td>\n",
       "      <td>1.623435</td>\n",
       "      <td>0.12</td>\n",
       "      <td>0.915</td>\n",
       "      <td>2.13</td>\n",
       "      <td>4.035</td>\n",
       "      <td>4.99</td>\n",
       "    </tr>\n",
       "    <tr>\n",
       "      <th>1</th>\n",
       "      <td>50.0</td>\n",
       "      <td>5.2560</td>\n",
       "      <td>2.615361</td>\n",
       "      <td>0.59</td>\n",
       "      <td>3.215</td>\n",
       "      <td>5.36</td>\n",
       "      <td>7.115</td>\n",
       "      <td>9.90</td>\n",
       "    </tr>\n",
       "  </tbody>\n",
       "</table>\n",
       "</div>"
      ],
      "text/plain": [
       "         count    mean       std   min    25%   50%    75%   max\n",
       "treated                                                         \n",
       "0         50.0  2.3078  1.623435  0.12  0.915  2.13  4.035  4.99\n",
       "1         50.0  5.2560  2.615361  0.59  3.215  5.36  7.115  9.90"
      ]
     },
     "execution_count": 127,
     "metadata": {},
     "output_type": "execute_result"
    }
   ],
   "source": [
    "bytreatment['nucleus'].describe()"
   ]
  },
  {
   "cell_type": "code",
   "execution_count": 128,
   "metadata": {},
   "outputs": [
    {
     "data": {
      "text/html": [
       "<div>\n",
       "<style>\n",
       "    .dataframe thead tr:only-child th {\n",
       "        text-align: right;\n",
       "    }\n",
       "\n",
       "    .dataframe thead th {\n",
       "        text-align: left;\n",
       "    }\n",
       "\n",
       "    .dataframe tbody tr th {\n",
       "        vertical-align: top;\n",
       "    }\n",
       "</style>\n",
       "<table border=\"1\" class=\"dataframe\">\n",
       "  <thead>\n",
       "    <tr style=\"text-align: right;\">\n",
       "      <th></th>\n",
       "      <th>count</th>\n",
       "      <th>mean</th>\n",
       "      <th>std</th>\n",
       "      <th>min</th>\n",
       "      <th>25%</th>\n",
       "      <th>50%</th>\n",
       "      <th>75%</th>\n",
       "      <th>max</th>\n",
       "    </tr>\n",
       "    <tr>\n",
       "      <th>treated</th>\n",
       "      <th></th>\n",
       "      <th></th>\n",
       "      <th></th>\n",
       "      <th></th>\n",
       "      <th></th>\n",
       "      <th></th>\n",
       "      <th></th>\n",
       "      <th></th>\n",
       "    </tr>\n",
       "  </thead>\n",
       "  <tbody>\n",
       "    <tr>\n",
       "      <th>0</th>\n",
       "      <td>50.0</td>\n",
       "      <td>25.3156</td>\n",
       "      <td>14.636375</td>\n",
       "      <td>0.61</td>\n",
       "      <td>10.4750</td>\n",
       "      <td>27.815</td>\n",
       "      <td>37.4875</td>\n",
       "      <td>48.55</td>\n",
       "    </tr>\n",
       "    <tr>\n",
       "      <th>1</th>\n",
       "      <td>50.0</td>\n",
       "      <td>9.0270</td>\n",
       "      <td>5.774009</td>\n",
       "      <td>0.49</td>\n",
       "      <td>4.2825</td>\n",
       "      <td>9.310</td>\n",
       "      <td>12.9200</td>\n",
       "      <td>19.57</td>\n",
       "    </tr>\n",
       "  </tbody>\n",
       "</table>\n",
       "</div>"
      ],
      "text/plain": [
       "         count     mean        std   min      25%     50%      75%    max\n",
       "treated                                                                  \n",
       "0         50.0  25.3156  14.636375  0.61  10.4750  27.815  37.4875  48.55\n",
       "1         50.0   9.0270   5.774009  0.49   4.2825   9.310  12.9200  19.57"
      ]
     },
     "execution_count": 128,
     "metadata": {},
     "output_type": "execute_result"
    }
   ],
   "source": [
    "bytreatment['wall'].describe()"
   ]
  },
  {
   "cell_type": "markdown",
   "metadata": {},
   "source": [
    "# Histograms"
   ]
  },
  {
   "cell_type": "code",
   "execution_count": 106,
   "metadata": {},
   "outputs": [
    {
     "data": {
      "image/png": "[encoded data removed]",
      "text/plain": [
       "<matplotlib.figure.Figure at 0x1515eda7f0>"
      ]
     },
     "metadata": {},
     "output_type": "display_data"
    },
    {
     "data": {
      "image/png": "[encoded data removed]",
      "text/plain": [
       "<matplotlib.figure.Figure at 0x1a173fff28>"
      ]
     },
     "metadata": {},
     "output_type": "display_data"
    }
   ],
   "source": [
    "%matplotlib inline\n",
    "import matplotlib.pyplot as plt\n",
    "\n",
    "#plot nucleus values by number of records\n",
    "plt.hist(df['nucleus'].values, bins='auto')\n",
    "plt.xlabel('nucleus values')\n",
    "plt.ylabel('number of records')\n",
    "plt.show()\n",
    "\n",
    "#plot log of nucleus values by number of records\n",
    "df['log_nucleus'] = np.log(df['nucleus'].values + 1)\n",
    "plt.hist(df['log_nucleus'].values, bins='auto')\n",
    "plt.xlabel('log(log_nucleus)')\n",
    "plt.ylabel('number of records')\n",
    "plt.show()"
   ]
  },
  {
   "cell_type": "markdown",
   "metadata": {},
   "source": [
    "# Scatter Plot"
   ]
  },
  {
   "cell_type": "code",
   "execution_count": 107,
   "metadata": {},
   "outputs": [
    {
     "data": {
      "text/plain": [
       "<matplotlib.axes._subplots.AxesSubplot at 0x1a16c663c8>"
      ]
     },
     "execution_count": 107,
     "metadata": {},
     "output_type": "execute_result"
    },
    {
     "data": {
      "image/png": "[encoded data removed]",
      "text/plain": [
       "<matplotlib.figure.Figure at 0x1a16c66ac8>"
      ]
     },
     "metadata": {},
     "output_type": "display_data"
    }
   ],
   "source": [
    "df.plot(kind=\"scatter\", x=\"nucleus\", y=\"cytoplasm\")"
   ]
  },
  {
   "cell_type": "markdown",
   "metadata": {},
   "source": [
    "# Bokeh Scatter Plot"
   ]
  },
  {
   "cell_type": "code",
   "execution_count": 108,
   "metadata": {},
   "outputs": [],
   "source": [
    "from numpy.random import random\n",
    "from bokeh.plotting import figure, show, output_file, curdoc\n",
    "from bokeh.layouts import row\n",
    "\n",
    "doc = curdoc()\n",
    "curdoc().clear()\n",
    "\n",
    "p = figure(title=\"nucleus - cytoplasm\", toolbar_location=None)\n",
    "p.grid.grid_line_color = \"#dddddd\"\n",
    "p.background_fill_color = \"#ffffff\"\n",
    "\n",
    "p.scatter(df.nucleus, df.cytoplasm, marker=\"circle\", size=12, line_color=None, fill_color=\"green\", alpha=0.4)\n",
    "p.scatter(df.nucleus, df.wall, marker=\"circle\", size=12, line_color=None, fill_color=\"blue\", alpha=0.4)\n",
    "\n",
    "show(p)"
   ]
  },
  {
   "cell_type": "markdown",
   "metadata": {},
   "source": [
    "# Correlation Between Variables"
   ]
  },
  {
   "cell_type": "code",
   "execution_count": 131,
   "metadata": {},
   "outputs": [
    {
     "data": {
      "text/plain": [
       "-0.21325549613696876"
      ]
     },
     "execution_count": 131,
     "metadata": {},
     "output_type": "execute_result"
    }
   ],
   "source": [
    "df['cytoplasm'].corr(df['wall'])"
   ]
  },
  {
   "cell_type": "markdown",
   "metadata": {},
   "source": [
    "# Correlation Matrix Visualization"
   ]
  },
  {
   "cell_type": "code",
   "execution_count": 159,
   "metadata": {},
   "outputs": [
    {
     "data": {
      "image/png": "[encoded data removed]",
      "text/plain": [
       "<matplotlib.figure.Figure at 0x1a1845e2b0>"
      ]
     },
     "metadata": {},
     "output_type": "display_data"
    },
    {
     "data": {
      "text/html": [
       "<div>\n",
       "<style>\n",
       "    .dataframe thead tr:only-child th {\n",
       "        text-align: right;\n",
       "    }\n",
       "\n",
       "    .dataframe thead th {\n",
       "        text-align: left;\n",
       "    }\n",
       "\n",
       "    .dataframe tbody tr th {\n",
       "        vertical-align: top;\n",
       "    }\n",
       "</style>\n",
       "<table border=\"1\" class=\"dataframe\">\n",
       "  <thead>\n",
       "    <tr style=\"text-align: right;\">\n",
       "      <th></th>\n",
       "      <th>id</th>\n",
       "      <th>treated</th>\n",
       "      <th>nucleus</th>\n",
       "      <th>cytoplasm</th>\n",
       "      <th>wall</th>\n",
       "      <th>log_nucleus</th>\n",
       "    </tr>\n",
       "  </thead>\n",
       "  <tbody>\n",
       "    <tr>\n",
       "      <th>id</th>\n",
       "      <td>1.000000</td>\n",
       "      <td>0.866069</td>\n",
       "      <td>0.510065</td>\n",
       "      <td>0.292888</td>\n",
       "      <td>-0.545724</td>\n",
       "      <td>0.493257</td>\n",
       "    </tr>\n",
       "    <tr>\n",
       "      <th>treated</th>\n",
       "      <td>0.866069</td>\n",
       "      <td>1.000000</td>\n",
       "      <td>0.564626</td>\n",
       "      <td>0.447195</td>\n",
       "      <td>-0.594561</td>\n",
       "      <td>0.531627</td>\n",
       "    </tr>\n",
       "    <tr>\n",
       "      <th>nucleus</th>\n",
       "      <td>0.510065</td>\n",
       "      <td>0.564626</td>\n",
       "      <td>1.000000</td>\n",
       "      <td>0.230552</td>\n",
       "      <td>-0.411291</td>\n",
       "      <td>0.959400</td>\n",
       "    </tr>\n",
       "    <tr>\n",
       "      <th>cytoplasm</th>\n",
       "      <td>0.292888</td>\n",
       "      <td>0.447195</td>\n",
       "      <td>0.230552</td>\n",
       "      <td>1.000000</td>\n",
       "      <td>-0.213255</td>\n",
       "      <td>0.234958</td>\n",
       "    </tr>\n",
       "    <tr>\n",
       "      <th>wall</th>\n",
       "      <td>-0.545724</td>\n",
       "      <td>-0.594561</td>\n",
       "      <td>-0.411291</td>\n",
       "      <td>-0.213255</td>\n",
       "      <td>1.000000</td>\n",
       "      <td>-0.433198</td>\n",
       "    </tr>\n",
       "    <tr>\n",
       "      <th>log_nucleus</th>\n",
       "      <td>0.493257</td>\n",
       "      <td>0.531627</td>\n",
       "      <td>0.959400</td>\n",
       "      <td>0.234958</td>\n",
       "      <td>-0.433198</td>\n",
       "      <td>1.000000</td>\n",
       "    </tr>\n",
       "  </tbody>\n",
       "</table>\n",
       "</div>"
      ],
      "text/plain": [
       "                   id   treated   nucleus  cytoplasm      wall  log_nucleus\n",
       "id           1.000000  0.866069  0.510065   0.292888 -0.545724     0.493257\n",
       "treated      0.866069  1.000000  0.564626   0.447195 -0.594561     0.531627\n",
       "nucleus      0.510065  0.564626  1.000000   0.230552 -0.411291     0.959400\n",
       "cytoplasm    0.292888  0.447195  0.230552   1.000000 -0.213255     0.234958\n",
       "wall        -0.545724 -0.594561 -0.411291  -0.213255  1.000000    -0.433198\n",
       "log_nucleus  0.493257  0.531627  0.959400   0.234958 -0.433198     1.000000"
      ]
     },
     "execution_count": 159,
     "metadata": {},
     "output_type": "execute_result"
    }
   ],
   "source": [
    "def correlation_matrix(df):\n",
    "    from matplotlib import pyplot as plt\n",
    "    from matplotlib import cm as cm\n",
    "\n",
    "    fig = plt.figure()\n",
    "    ax1 = fig.add_subplot(111)\n",
    "    cmap = cm.get_cmap('jet', 50)\n",
    "    cax = ax1.imshow(df.corr(), interpolation=\"nearest\", cmap=cmap)\n",
    "    ax1.grid(True)\n",
    "    plt.title('Cell Feature Correlation Matrix')\n",
    "    labels=['y','id','treated','nucleus','cytoplasm','wall','log_nucleus']\n",
    "    ax1.set_xticklabels(labels,fontsize=10)\n",
    "    ax1.set_yticklabels(labels,fontsize=10)\n",
    "    # Add colorbar, make sure to specify tick locations to match desired ticklabels\n",
    "    fig.colorbar(cax, ticks=[.1,.2,.3,.4,.5,.6,.7,.8,.9,.95,1])\n",
    "    plt.show()\n",
    "\n",
    "correlation_matrix(df)\n",
    "\n",
    "df.corr()"
   ]
  },
  {
   "cell_type": "markdown",
   "metadata": {
    "collapsed": true
   },
   "source": [
    "# Try and identify the healthiest diseased cell."
   ]
  },
  {
   "cell_type": "markdown",
   "metadata": {},
   "source": [
    " ### Lets create a composite score and see which cell scores the highest"
   ]
  },
  {
   "cell_type": "code",
   "execution_count": 139,
   "metadata": {},
   "outputs": [
    {
     "data": {
      "text/plain": [
       "treated\n",
       "0    2.3078\n",
       "1    5.2560\n",
       "Name: nucleus, dtype: float64"
      ]
     },
     "execution_count": 139,
     "metadata": {},
     "output_type": "execute_result"
    }
   ],
   "source": [
    "# https://stats.stackexchange.com/questions/276083/how-should-i-create-a-composite-score-from-my-multivariate-data-using-factor-ana\n",
    "\n",
    "treated_nucleus_mean = 5.2560\n",
    "bytreatment['nucleus'].mean()"
   ]
  },
  {
   "cell_type": "code",
   "execution_count": 140,
   "metadata": {},
   "outputs": [
    {
     "data": {
      "text/plain": [
       "treated\n",
       "0    46.8060\n",
       "1    94.5602\n",
       "Name: cytoplasm, dtype: float64"
      ]
     },
     "execution_count": 140,
     "metadata": {},
     "output_type": "execute_result"
    }
   ],
   "source": [
    "treated_cytoplasm_mean = 94.5602\n",
    "bytreatment['cytoplasm'].mean()"
   ]
  },
  {
   "cell_type": "code",
   "execution_count": 141,
   "metadata": {},
   "outputs": [
    {
     "data": {
      "text/plain": [
       "treated\n",
       "0    25.3156\n",
       "1     9.0270\n",
       "Name: wall, dtype: float64"
      ]
     },
     "execution_count": 141,
     "metadata": {},
     "output_type": "execute_result"
    }
   ],
   "source": [
    "treated_wall_mean = 9.0270\n",
    "bytreatment['wall'].mean()"
   ]
  },
  {
   "cell_type": "code",
   "execution_count": null,
   "metadata": {
    "collapsed": true
   },
   "outputs": [],
   "source": []
  }
 ],
 "metadata": {
  "anaconda-cloud": {},
  "kernelspec": {
   "display_name": "Python 3",
   "language": "python",
   "name": "python3"
  },
  "language_info": {
   "codemirror_mode": {
    "name": "ipython",
    "version": 3
   },
   "file_extension": ".py",
   "mimetype": "text/x-python",
   "name": "python",
   "nbconvert_exporter": "python",
   "pygments_lexer": "ipython3",
   "version": "3.6.3"
  }
 },
 "nbformat": 4,
 "nbformat_minor": 1
}
