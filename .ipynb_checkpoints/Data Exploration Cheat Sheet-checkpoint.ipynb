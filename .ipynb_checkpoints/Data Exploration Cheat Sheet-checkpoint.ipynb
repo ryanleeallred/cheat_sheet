{
 "cells": [
  {
   "cell_type": "code",
   "execution_count": 32,
   "metadata": {},
   "outputs": [
    {
     "data": {
      "text/plain": [
       "'Are testable models being built using real research on the underlying complexities that an organization \\nis attempting to understand and anticipate?'"
      ]
     },
     "execution_count": 32,
     "metadata": {},
     "output_type": "execute_result"
    }
   ],
   "source": [
    "#Inspirational Quote:\n",
    "\n",
    "'''If I collect butterflies and pin them to styrofoam this does not make me a scientist. \n",
    "If I collect data related to those butterflies like their physical attributes, their life spans, \n",
    "their flying patterns and their mating behavior this still does not qualify me as a scientist. \n",
    "If, however, I take those data and produce some conceptual abstraction in the form of laws or \n",
    "rules that capture the behavior of that phenomenon in the form of testable models, \n",
    "then I am doing science. These models can be passed on to future generations of scientists so that they may \n",
    "\"stand on the shoulders of giants\" and build a career around improving our understanding of the phenomenon.'''\n",
    "\n",
    "'''Are testable models being built using real research on the underlying complexities that an organization \n",
    "is attempting to understand and anticipate?'''"
   ]
  },
  {
   "cell_type": "code",
   "execution_count": 33,
   "metadata": {
    "collapsed": true
   },
   "outputs": [],
   "source": [
    "#Import libraries\n",
    "import pandas as pd\n",
    "import numpy as np\n",
    "import sklearn as sk"
   ]
  },
  {
   "cell_type": "markdown",
   "metadata": {},
   "source": [
    "# Read In Data"
   ]
  },
  {
   "cell_type": "code",
   "execution_count": 44,
   "metadata": {
    "collapsed": true
   },
   "outputs": [],
   "source": [
    "# Read in data from CSV\n",
    "df = pd.read_csv('Fake_Data_2.csv')"
   ]
  },
  {
   "cell_type": "markdown",
   "metadata": {},
   "source": [
    "# Num Rows and Columns"
   ]
  },
  {
   "cell_type": "code",
   "execution_count": 45,
   "metadata": {},
   "outputs": [
    {
     "name": "stdout",
     "output_type": "stream",
     "text": [
      "We have 100 rows and 5 columns.\n"
     ]
    }
   ],
   "source": [
    "print('We have {} rows and {} columns.'.format(df.shape[0], df.shape[1]))"
   ]
  },
  {
   "cell_type": "markdown",
   "metadata": {},
   "source": [
    "# Look at first 5 Values"
   ]
  },
  {
   "cell_type": "code",
   "execution_count": 46,
   "metadata": {},
   "outputs": [
    {
     "data": {
      "text/html": [
       "<div>\n",
       "<style>\n",
       "    .dataframe thead tr:only-child th {\n",
       "        text-align: right;\n",
       "    }\n",
       "\n",
       "    .dataframe thead th {\n",
       "        text-align: left;\n",
       "    }\n",
       "\n",
       "    .dataframe tbody tr th {\n",
       "        vertical-align: top;\n",
       "    }\n",
       "</style>\n",
       "<table border=\"1\" class=\"dataframe\">\n",
       "  <thead>\n",
       "    <tr style=\"text-align: right;\">\n",
       "      <th></th>\n",
       "      <th>id</th>\n",
       "      <th>treated</th>\n",
       "      <th>nucleus</th>\n",
       "      <th>cytoplasm</th>\n",
       "      <th>wall</th>\n",
       "    </tr>\n",
       "  </thead>\n",
       "  <tbody>\n",
       "    <tr>\n",
       "      <th>0</th>\n",
       "      <td>1</td>\n",
       "      <td>0</td>\n",
       "      <td>1</td>\n",
       "      <td>57</td>\n",
       "      <td>46</td>\n",
       "    </tr>\n",
       "    <tr>\n",
       "      <th>1</th>\n",
       "      <td>2</td>\n",
       "      <td>0</td>\n",
       "      <td>5</td>\n",
       "      <td>5</td>\n",
       "      <td>8</td>\n",
       "    </tr>\n",
       "    <tr>\n",
       "      <th>2</th>\n",
       "      <td>3</td>\n",
       "      <td>0</td>\n",
       "      <td>4</td>\n",
       "      <td>27</td>\n",
       "      <td>39</td>\n",
       "    </tr>\n",
       "    <tr>\n",
       "      <th>3</th>\n",
       "      <td>4</td>\n",
       "      <td>0</td>\n",
       "      <td>1</td>\n",
       "      <td>68</td>\n",
       "      <td>14</td>\n",
       "    </tr>\n",
       "    <tr>\n",
       "      <th>4</th>\n",
       "      <td>5</td>\n",
       "      <td>0</td>\n",
       "      <td>1</td>\n",
       "      <td>82</td>\n",
       "      <td>18</td>\n",
       "    </tr>\n",
       "  </tbody>\n",
       "</table>\n",
       "</div>"
      ],
      "text/plain": [
       "   id  treated  nucleus  cytoplasm  wall\n",
       "0   1        0        1         57    46\n",
       "1   2        0        5          5     8\n",
       "2   3        0        4         27    39\n",
       "3   4        0        1         68    14\n",
       "4   5        0        1         82    18"
      ]
     },
     "execution_count": 46,
     "metadata": {},
     "output_type": "execute_result"
    }
   ],
   "source": [
    "df.head()"
   ]
  },
  {
   "cell_type": "markdown",
   "metadata": {},
   "source": [
    "# # Obs, # Null, DataType"
   ]
  },
  {
   "cell_type": "code",
   "execution_count": 47,
   "metadata": {},
   "outputs": [
    {
     "name": "stdout",
     "output_type": "stream",
     "text": [
      "<class 'pandas.core.frame.DataFrame'>\n",
      "RangeIndex: 100 entries, 0 to 99\n",
      "Data columns (total 5 columns):\n",
      "id           100 non-null int64\n",
      "treated      100 non-null int64\n",
      "nucleus      100 non-null int64\n",
      "cytoplasm    100 non-null int64\n",
      "wall         100 non-null int64\n",
      "dtypes: int64(5)\n",
      "memory usage: 4.0 KB\n"
     ]
    }
   ],
   "source": [
    "df.info() # obs, # null, data type"
   ]
  },
  {
   "cell_type": "markdown",
   "metadata": {},
   "source": [
    "# Count number and type of values in a column"
   ]
  },
  {
   "cell_type": "code",
   "execution_count": 48,
   "metadata": {
    "collapsed": true
   },
   "outputs": [],
   "source": [
    "#df[\"variable_name\"].value_count()"
   ]
  },
  {
   "cell_type": "markdown",
   "metadata": {},
   "source": [
    "# Check for Unique IDs and Missing Values"
   ]
  },
  {
   "cell_type": "code",
   "execution_count": 49,
   "metadata": {},
   "outputs": [
    {
     "name": "stdout",
     "output_type": "stream",
     "text": [
      "ID is unique.\n",
      "We do not need to worry about missing values.\n",
      "minimum num values 100\n",
      "number of rows 100\n"
     ]
    }
   ],
   "source": [
    "print('ID is unique.') if df.id.nunique() == df.shape[0] else print('oops')\n",
    "print('We do not need to worry about missing values.') if df.count().min() == df.shape[0] else print('oops')\n",
    "\n",
    "print(\"minimum num values\", df.count().min()) \n",
    "print(\"number of rows\", df.shape[0])"
   ]
  },
  {
   "cell_type": "markdown",
   "metadata": {},
   "source": [
    "# Summary Statistics"
   ]
  },
  {
   "cell_type": "code",
   "execution_count": 50,
   "metadata": {},
   "outputs": [
    {
     "data": {
      "text/html": [
       "<div>\n",
       "<style>\n",
       "    .dataframe thead tr:only-child th {\n",
       "        text-align: right;\n",
       "    }\n",
       "\n",
       "    .dataframe thead th {\n",
       "        text-align: left;\n",
       "    }\n",
       "\n",
       "    .dataframe tbody tr th {\n",
       "        vertical-align: top;\n",
       "    }\n",
       "</style>\n",
       "<table border=\"1\" class=\"dataframe\">\n",
       "  <thead>\n",
       "    <tr style=\"text-align: right;\">\n",
       "      <th></th>\n",
       "      <th>id</th>\n",
       "      <th>treated</th>\n",
       "      <th>nucleus</th>\n",
       "      <th>cytoplasm</th>\n",
       "      <th>wall</th>\n",
       "    </tr>\n",
       "  </thead>\n",
       "  <tbody>\n",
       "    <tr>\n",
       "      <th>count</th>\n",
       "      <td>100.000000</td>\n",
       "      <td>100.000000</td>\n",
       "      <td>100.000000</td>\n",
       "      <td>100.000000</td>\n",
       "      <td>100.000000</td>\n",
       "    </tr>\n",
       "    <tr>\n",
       "      <th>mean</th>\n",
       "      <td>50.500000</td>\n",
       "      <td>0.500000</td>\n",
       "      <td>3.860000</td>\n",
       "      <td>83.910000</td>\n",
       "      <td>17.840000</td>\n",
       "    </tr>\n",
       "    <tr>\n",
       "      <th>std</th>\n",
       "      <td>29.011492</td>\n",
       "      <td>0.502519</td>\n",
       "      <td>2.283096</td>\n",
       "      <td>56.911964</td>\n",
       "      <td>12.735634</td>\n",
       "    </tr>\n",
       "    <tr>\n",
       "      <th>min</th>\n",
       "      <td>1.000000</td>\n",
       "      <td>0.000000</td>\n",
       "      <td>1.000000</td>\n",
       "      <td>3.000000</td>\n",
       "      <td>0.000000</td>\n",
       "    </tr>\n",
       "    <tr>\n",
       "      <th>25%</th>\n",
       "      <td>25.750000</td>\n",
       "      <td>0.000000</td>\n",
       "      <td>2.000000</td>\n",
       "      <td>37.250000</td>\n",
       "      <td>9.000000</td>\n",
       "    </tr>\n",
       "    <tr>\n",
       "      <th>50%</th>\n",
       "      <td>50.500000</td>\n",
       "      <td>0.500000</td>\n",
       "      <td>4.000000</td>\n",
       "      <td>74.500000</td>\n",
       "      <td>14.000000</td>\n",
       "    </tr>\n",
       "    <tr>\n",
       "      <th>75%</th>\n",
       "      <td>75.250000</td>\n",
       "      <td>1.000000</td>\n",
       "      <td>5.000000</td>\n",
       "      <td>126.500000</td>\n",
       "      <td>25.250000</td>\n",
       "    </tr>\n",
       "    <tr>\n",
       "      <th>max</th>\n",
       "      <td>100.000000</td>\n",
       "      <td>1.000000</td>\n",
       "      <td>9.000000</td>\n",
       "      <td>199.000000</td>\n",
       "      <td>49.000000</td>\n",
       "    </tr>\n",
       "  </tbody>\n",
       "</table>\n",
       "</div>"
      ],
      "text/plain": [
       "               id     treated     nucleus   cytoplasm        wall\n",
       "count  100.000000  100.000000  100.000000  100.000000  100.000000\n",
       "mean    50.500000    0.500000    3.860000   83.910000   17.840000\n",
       "std     29.011492    0.502519    2.283096   56.911964   12.735634\n",
       "min      1.000000    0.000000    1.000000    3.000000    0.000000\n",
       "25%     25.750000    0.000000    2.000000   37.250000    9.000000\n",
       "50%     50.500000    0.500000    4.000000   74.500000   14.000000\n",
       "75%     75.250000    1.000000    5.000000  126.500000   25.250000\n",
       "max    100.000000    1.000000    9.000000  199.000000   49.000000"
      ]
     },
     "execution_count": 50,
     "metadata": {},
     "output_type": "execute_result"
    }
   ],
   "source": [
    "df.describe()"
   ]
  },
  {
   "cell_type": "code",
   "execution_count": 51,
   "metadata": {},
   "outputs": [
    {
     "data": {
      "image/png": "[encoded data removed]",
      "text/plain": [
       "<matplotlib.figure.Figure at 0x1515ef5b70>"
      ]
     },
     "metadata": {},
     "output_type": "display_data"
    },
    {
     "data": {
      "image/png": "[encoded data removed]",
      "text/plain": [
       "<matplotlib.figure.Figure at 0x1515f2b240>"
      ]
     },
     "metadata": {},
     "output_type": "display_data"
    }
   ],
   "source": [
    "%matplotlib inline\n",
    "import matplotlib.pyplot as plt\n",
    "\n",
    "#plot nucleus values by number of records\n",
    "plt.hist(df['nucleus'].values, bins='auto')\n",
    "plt.xlabel('nucleus values')\n",
    "plt.ylabel('number of records')\n",
    "plt.show()\n",
    "\n",
    "#plot log of nucleus values by number of records\n",
    "df['log_nucleus'] = np.log(df['nucleus'].values + 1)\n",
    "plt.hist(df['log_nucleus'].values, bins='auto')\n",
    "plt.xlabel('log(log_nucleus)')\n",
    "plt.ylabel('number of records')\n",
    "plt.show()"
   ]
  },
  {
   "cell_type": "markdown",
   "metadata": {},
   "source": [
    "# Scatter Plot"
   ]
  },
  {
   "cell_type": "code",
   "execution_count": 52,
   "metadata": {},
   "outputs": [
    {
     "data": {
      "text/plain": [
       "<matplotlib.axes._subplots.AxesSubplot at 0x1a16e81a58>"
      ]
     },
     "execution_count": 52,
     "metadata": {},
     "output_type": "execute_result"
    },
    {
     "data": {
      "image/png": "[encoded data removed]",
      "text/plain": [
       "<matplotlib.figure.Figure at 0x1515ef55f8>"
      ]
     },
     "metadata": {},
     "output_type": "display_data"
    }
   ],
   "source": [
    "df.plot(kind=\"scatter\", x=\"nucleus\", y=\"cytoplasm\")"
   ]
  },
  {
   "cell_type": "code",
   "execution_count": 87,
   "metadata": {},
   "outputs": [],
   "source": [
    "from numpy.random import random\n",
    "from bokeh.plotting import figure, show, output_file, curdoc\n",
    "from bokeh.layouts import row\n",
    "\n",
    "doc = curdoc()\n",
    "curdoc().clear()\n",
    "\n",
    "p = figure(title=\"nucleus - cytoplasm\", toolbar_location=None)\n",
    "p.grid.grid_line_color = None\n",
    "p.background_fill_color = \"#eeeeee\"\n",
    "\n",
    "# Uncomment to fix the issue.\n",
    "# from bokeh.io import curdoc\n",
    "# curdoc().clear()\n",
    "\n",
    "p.scatter(df.nucleus, df.cytoplasm, marker=\"circle\", size=15, line_color=\"red\", fill_color=\"blue\", alpha=0.5)\n",
    "\n",
    "# layout = row(p)\n",
    "\n",
    "# layout.children[0] = p\n",
    "\n",
    "show(p)\n",
    "# def mscatter(p, x, y, marker):\n",
    "#     p.scatter(x, y, marker=marker, size=15,\n",
    "#               line_color=\"red\", fill_color=\"blue\", alpha=0.5)\n",
    "\n",
    "\n",
    "\n",
    "# show(p)"
   ]
  },
  {
   "cell_type": "code",
   "execution_count": null,
   "metadata": {
    "collapsed": true
   },
   "outputs": [],
   "source": [
    "doc = curdoc()\n",
    "\n",
    "p1 = figure(width=1500, height=230, active_scroll=\"wheel_zoom\")\n",
    "\n",
    "layout = row(p1)\n",
    "doc.add_root(layout)\n",
    "\n",
    "p2 = figure(width=1500, height=500, active_scroll=\"wheel_zoom\")\n",
    "\n",
    "layout.children[0] = p2"
   ]
  }
 ],
 "metadata": {
  "anaconda-cloud": {},
  "kernelspec": {
   "display_name": "Python 3",
   "language": "python",
   "name": "python3"
  },
  "language_info": {
   "codemirror_mode": {
    "name": "ipython",
    "version": 3
   },
   "file_extension": ".py",
   "mimetype": "text/x-python",
   "name": "python",
   "nbconvert_exporter": "python",
   "pygments_lexer": "ipython3",
   "version": "3.6.3"
  }
 },
 "nbformat": 4,
 "nbformat_minor": 1
}
